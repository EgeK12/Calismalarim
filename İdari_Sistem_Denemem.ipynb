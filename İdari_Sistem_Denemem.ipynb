{
  "nbformat": 4,
  "nbformat_minor": 0,
  "metadata": {
    "colab": {
      "name": "İdari Sistem Denemem.ipynb",
      "provenance": [],
      "collapsed_sections": []
    },
    "kernelspec": {
      "name": "python3",
      "display_name": "Python 3"
    },
    "language_info": {
      "name": "python"
    }
  },
  "cells": [
    {
      "cell_type": "code",
      "metadata": {
        "id": "Cj7wtGM8GJw1"
      },
      "source": [
        "import random\n",
        "import time\n",
        "print(\"DCFL İDARİ SİSTEM\")\n",
        "time.sleep(1)\n",
        "print(\"Merhaba sayın idare yönetimi\")\n",
        "time.sleep(1)\n",
        "sifre = 910109\n",
        "a_s_g = int(input(\"Şifrenizi giriniz : \"))\n",
        "\n",
        "if a_s_g == sifre :\n",
        "    print(\"Merhaba sayın idare yönetimi! Lütfen aşağıdaki işlemlerden birini seçiniz...\")\n",
        "    time.sleep(1)\n",
        "    print(\"ÖK- Öğrenci Kayıt   ÖS- Öğrenci Silme   ÖDNG- Öğrenci Diploma notu görüntüleme\")\n",
        "    time.sleep(1)\n",
        "    giris = input(\"Yapmak istediğiniz işlem : \")\n",
        "\n",
        "    if giris == \"ÖK\" :\n",
        "        time.sleep(1)\n",
        "        print(\"İşleme giriş sağlandı.\")\n",
        "        time.sleep(1)\n",
        "        s_g_i_o = input(\"Lütfen sisteme kayıt etmek istediğiniz öğrenciyi giriniz : \")\n",
        "        s_g_i_o_o_n = random.randrange(500, 1000)\n",
        "        print(\"Sisteme şu isimli öğrenci girildi : \", s_g_i_o)\n",
        "        time.sleep(1)\n",
        "        print(\"Sisteme girilen öğrencinin okul numarası : \", s_g_i_o_o_n)\n",
        "        print(\"İyi günler!\")\n",
        "\n",
        "    if giris == \"ÖS\" :\n",
        "        time.sleep(1)\n",
        "        print(\"İşleme giriş sağlandı.\")\n",
        "        time.sleep(1)\n",
        "        s_c_i_o = input(\"Lütfen sistemden silmek istediğiniz öğrenciyi giriniz : \")\n",
        "        s_c_i_o_o_n = random.randrange(500, 1000)\n",
        "        print(\"Sistemden şu isimli öğrenci silindi : \", s_c_i_o)\n",
        "        time.sleep(1)\n",
        "        print(\"Sistemden silinen öğrencinin okul numarası : \", s_c_i_o_o_n)\n",
        "        print(\"İyi günler!\")\n",
        "\n",
        "    if giris == \"ÖDNG\" :\n",
        "        time.sleep(1)\n",
        "        print(\"İşleme giriş sağlandı.\")\n",
        "        time.sleep(1)\n",
        "        s_d_n_s = input(\"Lütfen diploma notunu görmek istediğiniz öğrenciyi giriniz : \")\n",
        "        s_d_n_s_n = random.randrange(500, 1000)\n",
        "        o_d_n = random.randrange(50, 100)\n",
        "        print(\"Sistemden şu isimli öğrencinin diploma notu gösteriliyor : \", s_d_n_s)\n",
        "        time.sleep(1)\n",
        "        print(\"Öğrencinin diploma notu : \", o_d_n)\n",
        "        time.sleep(1)\n",
        "        print(\"Sistemden diploma notu sorgulanan öğrencinin okul numarası : \", s_d_n_s_n)\n",
        "        print(\"İyi günler!\")\n",
        "\n",
        "    else :\n",
        "        time.sleep(1)\n",
        "        print(\"Üzgünüz ancak girdiğiniz seçenek belirtilenler ile uyuşmuyor lütfen saha sonra tekrar deneyiniz...\")\n",
        "\n",
        "\n",
        "else:\n",
        "    time.sleep(1)\n",
        "    print(\"Üzgünüz ancak şifreniz veriler ile uyuşmuyor.\")"
      ],
      "execution_count": null,
      "outputs": []
    }
  ]
}